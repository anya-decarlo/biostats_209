{
 "cells": [
  {
   "cell_type": "markdown",
   "metadata": {},
   "source": [
    "Biostatistics 209\n",
    "Homework #S1\n",
    " \n",
    "For Questions 1-2, use the dataset pbc.dta. \n",
    "For Question 3, use the dataset actg019.dta.\n"
   ]
  },
  {
   "cell_type": "markdown",
   "metadata": {},
   "source": [
    "Question 1 [5 points]: Fit a Cox proportional hazards model to the PBC dataset with histology and bilirubin as covariates. The PBC dataset includes information on the primary biliary cirrhosis (PBC) status of patients. The observed survival time is the time until death or censoring, whichever occurred first, recorded in the ‘years’ column. The failure status of each patient is recorded in the ‘status’ column.   "
   ]
  },
  {
   "cell_type": "markdown",
   "metadata": {},
   "source": [
    "a. [2 points] Adjusting for bilirubin, does histology appear to be a (categorical) predictor of risk of death? Perform the likelihood ratio test to verify it and sum-marize the result of the test."
   ]
  },
  {
   "cell_type": "markdown",
   "metadata": {},
   "source": [
    "b. [2 points] Calculate the three HRs and their confidence intervals: Grade 1 vs. Grade 2, Grade 2 vs. Grade 3, Grade 3 vs. Grade 4 histology. Give a brief in-terpretation of the results. "
   ]
  },
  {
   "cell_type": "markdown",
   "metadata": {},
   "source": [
    "c. [1 point] Perform a test for trend to investigate the association between in-creasing grade of histology and risk of death. Provide an interpretation of the result, including the direction of effect. "
   ]
  },
  {
   "cell_type": "markdown",
   "metadata": {},
   "source": [
    "Question 2a [3 points]: In the same model as you used in Question 1\n",
    "    (a) [1 point] Conduct a likelihood ratio test to evaluate whether bilirubin is associated with survival after adjusting for histology. Compare the results to the Wald test (aka Z test).\n"
   ]
  },
  {
   "cell_type": "markdown",
   "metadata": {},
   "source": [
    "b. [1 point] Calculate the hazard ratio and its confidence interval for death associated with a one standard deviation increase in bilirubin. (Use the sample standard deviation of bilirubin calculated from the dataset.)"
   ]
  },
  {
   "cell_type": "markdown",
   "metadata": {},
   "source": [
    "c. [1 point] By how many mg/dL must bilirubin increase to double the risk of death (i.e., to yield a hazard ratio of 2)?\n"
   ]
  },
  {
   "cell_type": "markdown",
   "metadata": {},
   "source": [
    "Question 3 [5 points]: Taken from VGSM: problem 6.8 (new edition) / 7.6 (old edition).\n",
    "Note that for parts a) and b) you do not need Stata, just give expressions.\n"
   ]
  },
  {
   "cell_type": "markdown",
   "metadata": {},
   "source": [
    "For the ACTG 019 data set, the Cox model allowing for an interaction between ZDV treatment rx and the baseline CD4 cell count cd4 is:\n",
    "h(days | rx, cd4, interaction)=h0(days)* exp( β1 * rx + β2 * cd4 + β3 * interaction )\n"
   ]
  },
  {
   "cell_type": "markdown",
   "metadata": {},
   "source": [
    "a) [1 point] Express the test of the null hypothesis of no interaction between CD4 and treatment in terms of the parameters of the model. Note: In this Cox model, the parameters of interest are β1, β2, and β3."
   ]
  },
  {
   "cell_type": "markdown",
   "metadata": {},
   "source": [
    "b) [1 point] Again based on the parameters of the model, determine (as an expression) the hazard ratio for a ZDV-treated subject with x CD4 cells compared with a placebo-treated subject with x CD4 cells?"
   ]
  },
  {
   "cell_type": "markdown",
   "metadata": {},
   "source": [
    "c) [2 points] Fit the model. Does there appear to be an interaction between treatment and CD4 stratum? If so, what is the interpretation?"
   ]
  },
  {
   "cell_type": "markdown",
   "metadata": {},
   "source": [
    "d) [1 point] What are the hazard ratios for ZDV as compared to placebo for patients with 500, 109, and 50 CD4 cells, respectively?  "
   ]
  }
 ],
 "metadata": {
  "language_info": {
   "name": "python"
  }
 },
 "nbformat": 4,
 "nbformat_minor": 2
}
